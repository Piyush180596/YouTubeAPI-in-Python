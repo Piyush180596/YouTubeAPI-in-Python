{
 "cells": [
  {
   "cell_type": "code",
   "execution_count": 2,
   "metadata": {},
   "outputs": [],
   "source": [
    "from googleapiclient.discovery import build\n",
    "from googleapiclient.errors import HttpError"
   ]
  },
  {
   "cell_type": "code",
   "execution_count": 3,
   "metadata": {},
   "outputs": [],
   "source": [
    "api_key = \"<<Insert your API Key here>>\""
   ]
  },
  {
   "cell_type": "code",
   "execution_count": 4,
   "metadata": {},
   "outputs": [
    {
     "data": {
      "text/plain": [
       "googleapiclient.discovery.Resource"
      ]
     },
     "execution_count": 4,
     "metadata": {},
     "output_type": "execute_result"
    }
   ],
   "source": [
    "youtube = build('youtube','v3',developerKey=api_key)\n",
    "type(youtube)"
   ]
  },
  {
   "cell_type": "code",
   "execution_count": 17,
   "metadata": {},
   "outputs": [
    {
     "data": {
      "text/plain": [
       "{'kind': 'youtube#searchListResponse',\n",
       " 'etag': '\"Bdx4f4ps3xCOOo1WZ91nTLkRZ_c/iVaKH8i1nd45tUvLnf-IRGMFV7E\"',\n",
       " 'nextPageToken': 'CAoQAA',\n",
       " 'regionCode': 'US',\n",
       " 'pageInfo': {'totalResults': 36822, 'resultsPerPage': 10},\n",
       " 'items': [{'kind': 'youtube#searchResult',\n",
       "   'etag': '\"Bdx4f4ps3xCOOo1WZ91nTLkRZ_c/CrKmLlgNdND0P2wrYfOxD-Mvz8M\"',\n",
       "   'id': {'kind': 'youtube#video', 'videoId': 'nhwmc8mN7AI'},\n",
       "   'snippet': {'publishedAt': '2015-06-11T05:40:59.000Z',\n",
       "    'channelId': 'UCQJkrVYsoasOTAUd-WPzrbA',\n",
       "    'title': 'Mere Nishaan - Darshan  Raval',\n",
       "    'description': 'This is the theme song of badtameez dil serial which is gonna telecast on starplus. The singer is our very own our heartthrob our rawstar Darshan Raval.',\n",
       "    'thumbnails': {'default': {'url': 'https://i.ytimg.com/vi/nhwmc8mN7AI/default.jpg',\n",
       "      'width': 120,\n",
       "      'height': 90},\n",
       "     'medium': {'url': 'https://i.ytimg.com/vi/nhwmc8mN7AI/mqdefault.jpg',\n",
       "      'width': 320,\n",
       "      'height': 180},\n",
       "     'high': {'url': 'https://i.ytimg.com/vi/nhwmc8mN7AI/hqdefault.jpg',\n",
       "      'width': 480,\n",
       "      'height': 360}},\n",
       "    'channelTitle': 'Darshan holics',\n",
       "    'liveBroadcastContent': 'none'}},\n",
       "  {'kind': 'youtube#searchResult',\n",
       "   'etag': '\"Bdx4f4ps3xCOOo1WZ91nTLkRZ_c/9-aH8UtcHpUD6jwepbDRuwvV5Y4\"',\n",
       "   'id': {'kind': 'youtube#video', 'videoId': 'Z1ijuWA9Sfs'},\n",
       "   'snippet': {'publishedAt': '2015-07-04T08:30:01.000Z',\n",
       "    'channelId': 'UC-LPIU24bQXVljUXivKEeRQ',\n",
       "    'title': 'Badtameez Dil: Abeer performs to your favourite Mere Nishan',\n",
       "    'description': 'Missed Mere Nishan? Here is Abeer performing on the song of this season, exclusively for you. Watch Badtameez Dil, Mon-Sat, 8:30 PM only on STAR Plus.',\n",
       "    'thumbnails': {'default': {'url': 'https://i.ytimg.com/vi/Z1ijuWA9Sfs/default.jpg',\n",
       "      'width': 120,\n",
       "      'height': 90},\n",
       "     'medium': {'url': 'https://i.ytimg.com/vi/Z1ijuWA9Sfs/mqdefault.jpg',\n",
       "      'width': 320,\n",
       "      'height': 180},\n",
       "     'high': {'url': 'https://i.ytimg.com/vi/Z1ijuWA9Sfs/hqdefault.jpg',\n",
       "      'width': 480,\n",
       "      'height': 360}},\n",
       "    'channelTitle': 'StarPlus',\n",
       "    'liveBroadcastContent': 'none'}},\n",
       "  {'kind': 'youtube#searchResult',\n",
       "   'etag': '\"Bdx4f4ps3xCOOo1WZ91nTLkRZ_c/YOOlltSR2x8s6MXeqE2HGiM1K-s\"',\n",
       "   'id': {'kind': 'youtube#video', 'videoId': '-BSCLQcnIzs'},\n",
       "   'snippet': {'publishedAt': '2015-08-27T21:33:40.000Z',\n",
       "    'channelId': 'UCVVHfuTb4aF2R8Gdj4w3yBw',\n",
       "    'title': 'Darshan Raval   Mere Nishaan LYRICS badtameez dil title song   YouTube',\n",
       "    'description': '',\n",
       "    'thumbnails': {'default': {'url': 'https://i.ytimg.com/vi/-BSCLQcnIzs/default.jpg',\n",
       "      'width': 120,\n",
       "      'height': 90},\n",
       "     'medium': {'url': 'https://i.ytimg.com/vi/-BSCLQcnIzs/mqdefault.jpg',\n",
       "      'width': 320,\n",
       "      'height': 180},\n",
       "     'high': {'url': 'https://i.ytimg.com/vi/-BSCLQcnIzs/hqdefault.jpg',\n",
       "      'width': 480,\n",
       "      'height': 360}},\n",
       "    'channelTitle': 'Honarable Psycho Mate',\n",
       "    'liveBroadcastContent': 'none'}},\n",
       "  {'kind': 'youtube#searchResult',\n",
       "   'etag': '\"Bdx4f4ps3xCOOo1WZ91nTLkRZ_c/c7C2aGKnVbo5cL0tgy6wqBMYkRQ\"',\n",
       "   'id': {'kind': 'youtube#video', 'videoId': '8jsjstT1Spw'},\n",
       "   'snippet': {'publishedAt': '2015-06-24T14:33:03.000Z',\n",
       "    'channelId': 'UC-LPIU24bQXVljUXivKEeRQ',\n",
       "    'title': 'Badtameez Dil- Mere Nishan Unplugged',\n",
       "    'description': \"Watch Abeer, Meher and Darshan Raval in an exclusive and unplugged version of this year's most romantic song Mere Nishan. The most passionate love story ...\",\n",
       "    'thumbnails': {'default': {'url': 'https://i.ytimg.com/vi/8jsjstT1Spw/default.jpg',\n",
       "      'width': 120,\n",
       "      'height': 90},\n",
       "     'medium': {'url': 'https://i.ytimg.com/vi/8jsjstT1Spw/mqdefault.jpg',\n",
       "      'width': 320,\n",
       "      'height': 180},\n",
       "     'high': {'url': 'https://i.ytimg.com/vi/8jsjstT1Spw/hqdefault.jpg',\n",
       "      'width': 480,\n",
       "      'height': 360}},\n",
       "    'channelTitle': 'StarPlus',\n",
       "    'liveBroadcastContent': 'none'}},\n",
       "  {'kind': 'youtube#searchResult',\n",
       "   'etag': '\"Bdx4f4ps3xCOOo1WZ91nTLkRZ_c/M2UQii81OWFhii0Ty3BoQu-xNf0\"',\n",
       "   'id': {'kind': 'youtube#video', 'videoId': '8c6GRDxa6HQ'},\n",
       "   'snippet': {'publishedAt': '2012-10-27T10:01:59.000Z',\n",
       "    'channelId': 'UCq-Fj5jknLsUf-MWSy4_brA',\n",
       "    'title': 'Mere Nishaan Oh My God Full Song | Akshay Kumar, Paresh Rawal',\n",
       "    'description': 'Song: Mere Nishaan Singer: Kailash Kher, Meet Bros Anjjan Lyricist: Kumaar Music Director: Meet Bros Anjjan Music Label: T-Series For More Songs of OMG- ...',\n",
       "    'thumbnails': {'default': {'url': 'https://i.ytimg.com/vi/8c6GRDxa6HQ/default.jpg',\n",
       "      'width': 120,\n",
       "      'height': 90},\n",
       "     'medium': {'url': 'https://i.ytimg.com/vi/8c6GRDxa6HQ/mqdefault.jpg',\n",
       "      'width': 320,\n",
       "      'height': 180},\n",
       "     'high': {'url': 'https://i.ytimg.com/vi/8c6GRDxa6HQ/hqdefault.jpg',\n",
       "      'width': 480,\n",
       "      'height': 360}},\n",
       "    'channelTitle': 'T-Series',\n",
       "    'liveBroadcastContent': 'none'}},\n",
       "  {'kind': 'youtube#searchResult',\n",
       "   'etag': '\"Bdx4f4ps3xCOOo1WZ91nTLkRZ_c/aIynJHjaoAFdTZbXVy2B4Esprk0\"',\n",
       "   'id': {'kind': 'youtube#video', 'videoId': 'CxDUl5wvkFI'},\n",
       "   'snippet': {'publishedAt': '2018-04-04T04:07:30.000Z',\n",
       "    'channelId': 'UCj-6J4XBQnnwQKG4m-FDCNg',\n",
       "    'title': 'Jhuki Teri Palko Mein | Full Song | Serial Batameez Dill',\n",
       "    'description': 'Thanks for watching my videos if you like then share and subscribe love you all.',\n",
       "    'thumbnails': {'default': {'url': 'https://i.ytimg.com/vi/CxDUl5wvkFI/default.jpg',\n",
       "      'width': 120,\n",
       "      'height': 90},\n",
       "     'medium': {'url': 'https://i.ytimg.com/vi/CxDUl5wvkFI/mqdefault.jpg',\n",
       "      'width': 320,\n",
       "      'height': 180},\n",
       "     'high': {'url': 'https://i.ytimg.com/vi/CxDUl5wvkFI/hqdefault.jpg',\n",
       "      'width': 480,\n",
       "      'height': 360}},\n",
       "    'channelTitle': 'Lover boy Amit',\n",
       "    'liveBroadcastContent': 'none'}},\n",
       "  {'kind': 'youtube#searchResult',\n",
       "   'etag': '\"Bdx4f4ps3xCOOo1WZ91nTLkRZ_c/QRAbRIyWi6tS0ARrgtizh3KZv8k\"',\n",
       "   'id': {'kind': 'youtube#video', 'videoId': 'zfvc73B4ulY'},\n",
       "   'snippet': {'publishedAt': '2015-07-02T11:21:50.000Z',\n",
       "    'channelId': 'UC-LPIU24bQXVljUXivKEeRQ',\n",
       "    'title': 'Badtameez Dil: Watch Abeer perform to Naram Naram in his style',\n",
       "    'description': 'Abeer entertains us with Naram Naram in his own unique style. Watch him on Badtameez Dil, Mon-Sat, 8:30 PM only on STAR Plus.',\n",
       "    'thumbnails': {'default': {'url': 'https://i.ytimg.com/vi/zfvc73B4ulY/default.jpg',\n",
       "      'width': 120,\n",
       "      'height': 90},\n",
       "     'medium': {'url': 'https://i.ytimg.com/vi/zfvc73B4ulY/mqdefault.jpg',\n",
       "      'width': 320,\n",
       "      'height': 180},\n",
       "     'high': {'url': 'https://i.ytimg.com/vi/zfvc73B4ulY/hqdefault.jpg',\n",
       "      'width': 480,\n",
       "      'height': 360}},\n",
       "    'channelTitle': 'StarPlus',\n",
       "    'liveBroadcastContent': 'none'}},\n",
       "  {'kind': 'youtube#searchResult',\n",
       "   'etag': '\"Bdx4f4ps3xCOOo1WZ91nTLkRZ_c/sCUTBjHBwoxlVWIOjwO9XAfrHL4\"',\n",
       "   'id': {'kind': 'youtube#video', 'videoId': 'GG2q368Mr9g'},\n",
       "   'snippet': {'publishedAt': '2015-07-01T13:29:36.000Z',\n",
       "    'channelId': 'UC-KcxQLyKblfAZjgZP6CfUw',\n",
       "    'title': '&#39;Mere Nishan&#39; Full Audio Song by Darshan Raval',\n",
       "    'description': 'For continue listning new songs subscribe our channel..... https://www.youtube.com/channel/UC-KcxQLyKblfAZjgZP6CfUw.',\n",
       "    'thumbnails': {'default': {'url': 'https://i.ytimg.com/vi/GG2q368Mr9g/default.jpg',\n",
       "      'width': 120,\n",
       "      'height': 90},\n",
       "     'medium': {'url': 'https://i.ytimg.com/vi/GG2q368Mr9g/mqdefault.jpg',\n",
       "      'width': 320,\n",
       "      'height': 180},\n",
       "     'high': {'url': 'https://i.ytimg.com/vi/GG2q368Mr9g/hqdefault.jpg',\n",
       "      'width': 480,\n",
       "      'height': 360}},\n",
       "    'channelTitle': 'Outrageous tuber',\n",
       "    'liveBroadcastContent': 'none'}},\n",
       "  {'kind': 'youtube#searchResult',\n",
       "   'etag': '\"Bdx4f4ps3xCOOo1WZ91nTLkRZ_c/FYa8Am1QfNlYEkW2oW7LOclxOOg\"',\n",
       "   'id': {'kind': 'youtube#video', 'videoId': 'XaMUmpH6PvE'},\n",
       "   'snippet': {'publishedAt': '2018-01-10T16:45:09.000Z',\n",
       "    'channelId': 'UCcG5tiWdLYsUaqBkJ58-04Q',\n",
       "    'title': 'Mere Nissa Darshan Raval Live performance |At Live',\n",
       "    'description': '',\n",
       "    'thumbnails': {'default': {'url': 'https://i.ytimg.com/vi/XaMUmpH6PvE/default.jpg',\n",
       "      'width': 120,\n",
       "      'height': 90},\n",
       "     'medium': {'url': 'https://i.ytimg.com/vi/XaMUmpH6PvE/mqdefault.jpg',\n",
       "      'width': 320,\n",
       "      'height': 180},\n",
       "     'high': {'url': 'https://i.ytimg.com/vi/XaMUmpH6PvE/hqdefault.jpg',\n",
       "      'width': 480,\n",
       "      'height': 360}},\n",
       "    'channelTitle': 'At Live',\n",
       "    'liveBroadcastContent': 'none'}},\n",
       "  {'kind': 'youtube#searchResult',\n",
       "   'etag': '\"Bdx4f4ps3xCOOo1WZ91nTLkRZ_c/PbUVqoE83pq3_V7DA4dBdqpl-q8\"',\n",
       "   'id': {'kind': 'youtube#video', 'videoId': 'yHVHI-NX3ak'},\n",
       "   'snippet': {'publishedAt': '2015-04-03T10:47:21.000Z',\n",
       "    'channelId': 'UCtVorZAeJ3p3nKWDmwGDlSA',\n",
       "    'title': 'Pehli Mohabbat Official full song by Darshan Raval',\n",
       "    'description': 'Here is the 1st edit ever full song Pehli Mohabbat by Darshan Raval | ThnQ Rahul Rony.',\n",
       "    'thumbnails': {'default': {'url': 'https://i.ytimg.com/vi/yHVHI-NX3ak/default.jpg',\n",
       "      'width': 120,\n",
       "      'height': 90},\n",
       "     'medium': {'url': 'https://i.ytimg.com/vi/yHVHI-NX3ak/mqdefault.jpg',\n",
       "      'width': 320,\n",
       "      'height': 180},\n",
       "     'high': {'url': 'https://i.ytimg.com/vi/yHVHI-NX3ak/hqdefault.jpg',\n",
       "      'width': 480,\n",
       "      'height': 360}},\n",
       "    'channelTitle': 'Rahul Rony',\n",
       "    'liveBroadcastContent': 'none'}}]}"
      ]
     },
     "execution_count": 17,
     "metadata": {},
     "output_type": "execute_result"
    }
   ],
   "source": [
    "search_response = youtube.search().list(q='Jimmy Kimmel',part='id,snippet',type='video',maxResults=10).execute()\n",
    "search_response"
   ]
  },
  {
   "cell_type": "code",
   "execution_count": 18,
   "metadata": {},
   "outputs": [
    {
     "data": {
      "text/plain": [
       "dict_keys(['kind', 'etag', 'nextPageToken', 'regionCode', 'pageInfo', 'items'])"
      ]
     },
     "execution_count": 18,
     "metadata": {},
     "output_type": "execute_result"
    }
   ],
   "source": [
    "search_response.keys()"
   ]
  },
  {
   "cell_type": "code",
   "execution_count": 19,
   "metadata": {},
   "outputs": [
    {
     "data": {
      "text/plain": [
       "{'kind': 'youtube#searchResult',\n",
       " 'etag': '\"Bdx4f4ps3xCOOo1WZ91nTLkRZ_c/CrKmLlgNdND0P2wrYfOxD-Mvz8M\"',\n",
       " 'id': {'kind': 'youtube#video', 'videoId': 'nhwmc8mN7AI'},\n",
       " 'snippet': {'publishedAt': '2015-06-11T05:40:59.000Z',\n",
       "  'channelId': 'UCQJkrVYsoasOTAUd-WPzrbA',\n",
       "  'title': 'Mere Nishaan - Darshan  Raval',\n",
       "  'description': 'This is the theme song of badtameez dil serial which is gonna telecast on starplus. The singer is our very own our heartthrob our rawstar Darshan Raval.',\n",
       "  'thumbnails': {'default': {'url': 'https://i.ytimg.com/vi/nhwmc8mN7AI/default.jpg',\n",
       "    'width': 120,\n",
       "    'height': 90},\n",
       "   'medium': {'url': 'https://i.ytimg.com/vi/nhwmc8mN7AI/mqdefault.jpg',\n",
       "    'width': 320,\n",
       "    'height': 180},\n",
       "   'high': {'url': 'https://i.ytimg.com/vi/nhwmc8mN7AI/hqdefault.jpg',\n",
       "    'width': 480,\n",
       "    'height': 360}},\n",
       "  'channelTitle': 'Darshan holics',\n",
       "  'liveBroadcastContent': 'none'}}"
      ]
     },
     "execution_count": 19,
     "metadata": {},
     "output_type": "execute_result"
    }
   ],
   "source": [
    "firstVideo = search_response['items'][0]\n",
    "firstVideo"
   ]
  },
  {
   "cell_type": "code",
   "execution_count": 20,
   "metadata": {},
   "outputs": [],
   "source": [
    "import webbrowser\n",
    "website = \"https://www.youtube.com/watch?v=\"+firstVideo['id']['videoId']\n",
    "# webbrowser.open_new(website)"
   ]
  },
  {
   "cell_type": "code",
   "execution_count": 21,
   "metadata": {},
   "outputs": [],
   "source": [
    "import pafy\n",
    "# import vlc\n",
    "video = pafy.new(website)\n",
    "best = video.getbest()\n",
    "playurl = best.url"
   ]
  },
  {
   "cell_type": "code",
   "execution_count": 22,
   "metadata": {},
   "outputs": [
    {
     "data": {
      "text/plain": [
       "'https://r2---sn-oxuuvn-a5me.googlevideo.com/videoplayback?expire=1563526818&ei=QjIxXd_kFNvfkgaXzoegDw&ip=128.125.148.13&id=o-AND66gG9oXgakP0vNRbgkLShjT7q-ROUtlAncjWZbXzz&itag=18&source=youtube&requiressl=yes&mm=31%2C29&mn=sn-oxuuvn-a5me%2Csn-a5mlrn7l&ms=au%2Crdu&mv=m&mvi=1&pl=16&initcwndbps=2890000&mime=video%2Fmp4&gir=yes&clen=10395435&ratebypass=yes&dur=250.102&lmt=1549183364471863&mt=1563505145&fvip=2&c=WEB&txp=5531432&sparams=expire%2Cei%2Cip%2Cid%2Citag%2Csource%2Crequiressl%2Cmime%2Cgir%2Cclen%2Cratebypass%2Cdur%2Clmt&sig=ALgxI2wwRAIgCYyD_i3CFA9nJ_8zeW98ntwKB9fz_vU5jW8RtrpkgM4CIDw2Hxs-o6x__5kblB03uhY37dv6VPl96jN8J1S2JTJU&lsparams=mm%2Cmn%2Cms%2Cmv%2Cmvi%2Cpl%2Cinitcwndbps&lsig=AHylml4wRgIhAJO8xzuiweLMLNb4PvDtw6lgaYC-5OgjGNSFlXxbpidMAiEAhB34FEPf9uHWdzkqkQ1lmfYqO9MDdx0aAeVWERzRFAA%3D'"
      ]
     },
     "execution_count": 22,
     "metadata": {},
     "output_type": "execute_result"
    }
   ],
   "source": [
    "playurl"
   ]
  },
  {
   "cell_type": "code",
   "execution_count": 23,
   "metadata": {},
   "outputs": [
    {
     "data": {
      "text/plain": [
       "0"
      ]
     },
     "execution_count": 23,
     "metadata": {},
     "output_type": "execute_result"
    }
   ],
   "source": [
    "import vlc\n",
    "\n",
    "Instance = vlc.Instance()\n",
    "player = Instance.media_player_new()\n",
    "Media = Instance.media_new(playurl)\n",
    "Media.get_mrl()\n",
    "player.set_media(Media)\n",
    "player.play()"
   ]
  },
  {
   "cell_type": "code",
   "execution_count": 24,
   "metadata": {},
   "outputs": [],
   "source": [
    "player.stop()"
   ]
  },
  {
   "cell_type": "code",
   "execution_count": null,
   "metadata": {},
   "outputs": [],
   "source": []
  }
 ],
 "metadata": {
  "kernelspec": {
   "display_name": "Python 3",
   "language": "python",
   "name": "python3"
  },
  "language_info": {
   "codemirror_mode": {
    "name": "ipython",
    "version": 3
   },
   "file_extension": ".py",
   "mimetype": "text/x-python",
   "name": "python",
   "nbconvert_exporter": "python",
   "pygments_lexer": "ipython3",
   "version": "3.6.5"
  }
 },
 "nbformat": 4,
 "nbformat_minor": 2
}
